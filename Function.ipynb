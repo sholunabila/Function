{
  "metadata": {
    "kernelspec": {
      "name": "python",
      "display_name": "Python (Pyodide)",
      "language": "python"
    },
    "language_info": {
      "codemirror_mode": {
        "name": "python",
        "version": 3
      },
      "file_extension": ".py",
      "mimetype": "text/x-python",
      "name": "python",
      "nbconvert_exporter": "python",
      "pygments_lexer": "ipython3",
      "version": "3.8"
    }
  },
  "nbformat_minor": 4,
  "nbformat": 4,
  "cells": [
    {
      "cell_type": "markdown",
      "source": "<h2>Pengertian</h2>\n<ol>\n    <li>Fungsi pada python adalah kumpulan perintah atau baris kode yang dikelompokkan menjadi satu kesatuan untuk kemudian bisa dipanggil atau digunakan berkali-kali.</li>\n    <li>Sebuah fungsi dapat menerima parameter, dapat mengembalikan suatu nilai, dan dapat dipanggil berkali-kali secara independen.</li>\n</ol>\n<hr>\n<h2>Keuntungan</h2>\n<ol>\n    <li>Membagi kode program menjadi bagian-bagian kecil dengan tugasnya masing-masing.</li>\n    <li>Membuat kode program menjadi lebih “reusable” dan lebih terstruktur.</li>\n</ol>\n<hr>\n<h2>Sintaks</h2>\n\n```python\ndef function_name():\n    Logic Program\n```\nCara memanggil fungsi dengan menuliskan function_name diikuti kurung buka tutup () beserta parameter jika ada\n\n```python\n    function_name()\n```\n<hr>\nBuatlah fungsi dengan nama \"helloPython\" yang berfungsi untuk mencetak \"Welcome in Python Language\" ",
      "metadata": {}
    },
    {
      "cell_type": "code",
      "source": "def helloPython():\n    print(\"Welcome in Python Language\")\n\n# Contoh:\nhelloPython()",
      "metadata": {
        "trusted": true
      },
      "outputs": [
        {
          "name": "stdout",
          "text": "Welcome in Python Language\n",
          "output_type": "stream"
        }
      ],
      "execution_count": 23
    },
    {
      "cell_type": "markdown",
      "source": "<h1>Fungsi dengan parameter</h1>\nSebuah fungsi dapat menerima parameter ataupun argumen yang merupakan suatu nilai/variabel yang dilemparkan ke dalam fungsi untuk diproses lebih lanjut.\n\n<h2>Sintaks</h2>\n\n```python\ndef function_name(param):\n    Logic Program\n```\nCara memanggil fungsi dengan menuliskan function_name diikuti kurung buka tutup () beserta parameter\n\n```python\n    function_name(param)\n```\n<hr>",
      "metadata": {}
    },
    {
      "cell_type": "markdown",
      "source": "Buatlah fungsi dengan nama \"fullName\" yang mempunyai parameter \"firstname\" dan \"lastname\" digunakan untuk mencetak \"firstname\" dan \"lastname\"",
      "metadata": {}
    },
    {
      "cell_type": "code",
      "source": "def fullName(firstname, lastname):\n    print(firstname, lastname)\n\n# Contoh:\nfirstName = \"Salwa Aprilia\"\nlastName = \"Santi\"\n\nprint(\"Nama lengkap:\")\nfullName(firstName, lastName)",
      "metadata": {
        "trusted": true
      },
      "outputs": [
        {
          "name": "stdout",
          "text": "Nama lengkap:\nSalwa Aprilia Santi\n",
          "output_type": "stream"
        }
      ],
      "execution_count": 22
    },
    {
      "cell_type": "markdown",
      "source": "Parameter fungsi diperbolehkan menggunakan lebih dari 1, dimana paramater tersebut ada yang wajib harus diisi dan ada yang tidak harus diisi\n\n```python\ndef function_name(param_1, param_2, param_3,....):\n    Logic Program\n```\n\nCara memanggil fungsi dengan menuliskan function_name diikuti kurung buka tutup () beserta parameter\n\n```python\n    function_name(param_1, param_2, param_3)\n```\n<hr>\nBuatlah fungsi dengan nama maxValue yang mempunyai parameter \"val_1\",\"val_2\" dan \"val_3\" yang bertujuan untuk mencari nilai terbesar dari 3 nilai tersebut",
      "metadata": {}
    },
    {
      "cell_type": "code",
      "source": "def maxValue(val_1, val_2, val_3):\n    max_val = val_1\n    if val_2 > max_val:\n        max_val = val_2\n    if val_3 > max_val:\n        max_val = val_3\n    return max_val\n\n# Contoh:\na = 10\nb = 5\nc = 8\n\nprint(\"Nilai terbesar dari\", a, \",\", b, \", dan\", c, \"adalah:\", maxValue(a, b, c))",
      "metadata": {
        "trusted": true
      },
      "outputs": [
        {
          "name": "stdout",
          "text": "Nilai terbesar dari 10 , 5 , dan 8 adalah: 10\n",
          "output_type": "stream"
        }
      ],
      "execution_count": 21
    },
    {
      "cell_type": "markdown",
      "source": "Parameter opsional digunakan pada fungsi dengan cara memberikan nilai default, artinya nilai parameter sudah diberikan terlebih dahulu tanpa dipanggil\n\n```python\ndef function_name(param_1, param_2, param_3 = 'Nilai'):\n    Logic Program\n```",
      "metadata": {}
    },
    {
      "cell_type": "markdown",
      "source": "Buatlah fungsi \"countCircleArea\" dengan 2 parameter yaitu \"phi\" dan \"diameter\" dimana parameter phi mempunyai nilai default 3.14",
      "metadata": {}
    },
    {
      "cell_type": "code",
      "source": "def countCircleArea(diameter, phi=3.14):\n    radius = diameter / 2\n    area = phi * (radius ** 2)\n    return area\n\n# Contoh:\ndiameter1 = 10\narea1 = countCircleArea(diameter1)\nprint(f\"Luas lingkaran dengan diameter {diameter1} adalah {area1}\") \n\ndiameter2 = 10\nphi_precise = 3.14159\narea2 = countCircleArea(diameter2, phi=phi_precise)\nprint(f\"Luas lingkaran dengan diameter {diameter2} menggunakan pi lebih presisi adalah {area2}\") ",
      "metadata": {
        "trusted": true,
        "scrolled": true
      },
      "outputs": [
        {
          "name": "stdout",
          "text": "Luas lingkaran dengan diameter 10 adalah 78.5\nLuas lingkaran dengan diameter 10 menggunakan pi lebih presisi adalah 78.53975\n",
          "output_type": "stream"
        }
      ],
      "execution_count": 25
    },
    {
      "cell_type": "markdown",
      "source": "Fungsi dengan 2 Parameter opsional juga dapat dilakukan pada Python. \n\n```python\ndef info(suhu, daerah='Sukabumi', satuan = 'Celcius'):\n    print(f\"Suhu sekarang di {daerah} : {suhu} {satuan} \")\n```\nAdapun Cara memanggilnya\n\n```python\n    info(30)\n```",
      "metadata": {}
    },
    {
      "cell_type": "code",
      "source": "#Cobalah fungsi tersebut pada area kode disini\n\ndef info(suhu, daerah='Sukabumi', satuan = 'Celcius'):\n    print(f\"Suhu sekarang di {daerah} : {suhu} {satuan} \")\n\n  info(30)",
      "metadata": {
        "trusted": true
      },
      "outputs": [],
      "execution_count": null
    },
    {
      "cell_type": "markdown",
      "source": "<h1>Fungsi dengan Return Value</h1>\n\nYaitu fungsi dimana akhir dari programnya adalah nilai kembalian atau nilai balik. Artinya nilai dalam fungsi dapat ditampung lagi ke variabel lain untuk digunakan operasi lebih lanjut.\n\nBuatlah fungsi dengan return value yang digunakan untuk mengecek sebuah bilangan termasuk bilangan negatif, bilangan neteral(0) dan bilangan positif",
      "metadata": {}
    },
    {
      "cell_type": "code",
      "source": "def cek_bilangan(bilangan):\n    if bilangan < 0:\n        return \"Negatif\"\n    elif bilangan == 0:\n        return \"Netral\"\n    else:\n        return \"Positif\"\n\n# Contoh:\nbilangan1 = -18\nbilangan2 = 0\nbilangan3 = 11\n\nprint(f\"{bilangan1} adalah bilangan {cek_bilangan(bilangan1)}\") \nprint(f\"{bilangan2} adalah bilangan {cek_bilangan(bilangan2)}\")\nprint(f\"{bilangan3} adalah bilangan {cek_bilangan(bilangan3)}\")",
      "metadata": {
        "trusted": true
      },
      "outputs": [
        {
          "name": "stdout",
          "text": "-18 adalah bilangan Negatif\n0 adalah bilangan Netral\n11 adalah bilangan Positif\n",
          "output_type": "stream"
        }
      ],
      "execution_count": 26
    },
    {
      "cell_type": "markdown",
      "source": "<h3>Soal Latihan</h3>\n<ol>\n    <li>Buatlah fungsi untuk menjumlahkan total nilai dari list</li>\n    <li>Buatlah fungsi untuk mencari nilai terbesar dari sekumpulan list </li>\n    <li>Buatlah fungsi untuk menjumlahkan 2 buah list </li>\n</ol>\n",
      "metadata": {}
    },
    {
      "cell_type": "code",
      "source": "#Soal 1\n\ndef total_nilai(lst):\n    total = 0\n    for nilai in lst:\n        total += nilai\n    return total\n\n# Contoh:\nlst = [10, 56, 23, 89, 4, 67]\ntotal = total_nilai(lst)\nprint(f\"Total nilai dalam list adalah {total}\")",
      "metadata": {
        "trusted": true
      },
      "outputs": [
        {
          "name": "stdout",
          "text": "Total nilai dalam list adalah 249\n",
          "output_type": "stream"
        }
      ],
      "execution_count": 27
    },
    {
      "cell_type": "code",
      "source": "#Soal 2\n\ndef nilai_terbesar(lst):\n    if not lst:  # Cek apakah list kosong\n        return None\n\n    terbesar = lst[0]\n    for nilai in lst:\n        if nilai > terbesar:\n            terbesar = nilai\n    return terbesar\n\n# Contoh:\nlst = [10, 56, 23, 89, 4, 67]\nterbesar = nilai_terbesar(lst)\nprint(f\"Nilai terbesar dalam list adalah {terbesar}\")\n    ",
      "metadata": {
        "trusted": true
      },
      "outputs": [
        {
          "name": "stdout",
          "text": "Nilai terbesar dalam list adalah 89\n",
          "output_type": "stream"
        }
      ],
      "execution_count": 28
    },
    {
      "cell_type": "code",
      "source": "#Soal 3\n\ndef jumlahkan_list(lst1, lst2):\n    hasil = []\n    panjang_min = min(len(lst1), len(lst2))\n    for i in range(panjang_min):\n        hasil.append(lst1[i] + lst2[i])\n    return hasil\n\n# Contoh:\nlst1 = [1, 2, 3, 4]\nlst2 = [10, 20, 30]\nhasil = jumlahkan_list(lst1, lst2)\nprint(hasil)",
      "metadata": {
        "trusted": true
      },
      "outputs": [
        {
          "name": "stdout",
          "text": "[11, 22, 33]\n",
          "output_type": "stream"
        }
      ],
      "execution_count": 29
    }
  ]
}